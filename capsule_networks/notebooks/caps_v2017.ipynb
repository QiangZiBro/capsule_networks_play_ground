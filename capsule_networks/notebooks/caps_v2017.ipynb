{
 "cells": [
  {
   "cell_type": "markdown",
   "metadata": {},
   "source": [
    "# 动手实现胶囊网络\n",
    "\n",
    "## 前言\n",
    "\n",
    "2017年，Hinton团队提出胶囊网络，首次将标量型网络扩展到矢量。本着learning by doing的态度，我尝试对原论文进行复现，因此这里不会对其原论文原理和思想有太多解释。尽可能保证工程性和完整性，并在实现过程中不断总结和反思。实现过程中也许会有一些bug，欢迎交流和提交issue~\n",
    "\n",
    "**Author**: QiangZiBro   \n",
    "**Github**: https://github/QiangZiBro\n",
    "\n",
    "\n",
    "## 1.1 引入必备的包\n",
    "本文依赖第三方框架pytorch，实验使用1.2，基本来说各个版本都可以用。"
   ]
  },
  {
   "cell_type": "code",
   "execution_count": 55,
   "metadata": {},
   "outputs": [],
   "source": [
    "import os\n",
    "import torch\n",
    "import torch.nn as nn\n",
    "import torch.nn.functional as F\n",
    "import torchvision\n",
    "import matplotlib.pyplot as plt\n",
    "import numpy as np\n",
    "from torchvision import transforms\n",
    "from torchvision.utils import save_image"
   ]
  },
  {
   "cell_type": "markdown",
   "metadata": {},
   "source": [
    "## 1.2 超参数定义"
   ]
  },
  {
   "cell_type": "code",
   "execution_count": 56,
   "metadata": {},
   "outputs": [],
   "source": [
    "# Device configuration\n",
    "device = torch.device('cuda' if torch.cuda.is_available() else 'cpu')\n",
    "\n",
    "# Hyper-parameters\n",
    "num_epochs = 5\n",
    "batch_size = 64\n",
    "learning_rate = 1e-3"
   ]
  },
  {
   "cell_type": "markdown",
   "metadata": {},
   "source": [
    "## 1.3 数据加载"
   ]
  },
  {
   "cell_type": "code",
   "execution_count": 57,
   "metadata": {},
   "outputs": [],
   "source": [
    "# MNIST dataset\n",
    "root=\"/home/qiangzibro/2TB1/\"\n",
    "train_dataset = torchvision.datasets.MNIST(root=root,\n",
    "                                           train=True, \n",
    "                                           transform=transforms.ToTensor(),\n",
    "                                           download=True)\n",
    "\n",
    "test_dataset = torchvision.datasets.MNIST(root=root,\n",
    "                                          train=False, \n",
    "                                          transform=transforms.ToTensor())\n",
    "\n",
    "# Data loader\n",
    "train_loader = torch.utils.data.DataLoader(dataset=train_dataset,\n",
    "                                           batch_size=batch_size, \n",
    "                                           shuffle=True)\n",
    "\n",
    "test_loader = torch.utils.data.DataLoader(dataset=test_dataset,\n",
    "                                          batch_size=batch_size, \n",
    "                                          shuffle=False)"
   ]
  },
  {
   "cell_type": "code",
   "execution_count": 58,
   "metadata": {},
   "outputs": [
    {
     "name": "stdout",
     "output_type": "stream",
     "text": [
      "label is 2\n"
     ]
    },
    {
     "data": {
      "image/png": "[encoded data removed]",
      "text/plain": [
       "<Figure size 432x288 with 1 Axes>"
      ]
     },
     "metadata": {
      "needs_background": "light"
     },
     "output_type": "display_data"
    }
   ],
   "source": [
    "def show_img(data_tuple):\n",
    "    img, label = data_tuple\n",
    "    img = img.squeeze()\n",
    "    plt.imshow(img)\n",
    "    print(f\"label is {label}\")\n",
    "    \n",
    "show_img(test_dataset[1])"
   ]
  },
  {
   "cell_type": "markdown",
   "metadata": {},
   "source": [
    "## 1.4 胶囊网络的压缩函数与动态路由算法\n",
    "胶囊网络由三层组成：卷积层，初级胶囊层，卷积胶囊层，其中卷积胶囊层使用了动态路由算法。我们来一一实现这些功能。\n",
    "首先实现两个函数，压缩函数与动态路由函数"
   ]
  },
  {
   "cell_type": "code",
   "execution_count": 60,
   "metadata": {},
   "outputs": [
    {
     "data": {
      "text/plain": [
       "torch.Size([1, 10, 16])"
      ]
     },
     "execution_count": 60,
     "metadata": {},
     "output_type": "execute_result"
    }
   ],
   "source": [
    "def squash(x):\n",
    "    \"\"\"\n",
    "    Args:\n",
    "        x: (B, 10, 16)\n",
    "    Return:\n",
    "        squashed x (B, 10, 16)\n",
    "    \"\"\"\n",
    "    L = torch.norm(x, dim=2, keepdim=True) #(B, 10, 1)\n",
    "    L_square = L**2 #(B, 10, 1)\n",
    "    c = (L_square)/(1+L_square)/L #(B, 10, 1)\n",
    "    \n",
    "    s = c*x #(B, 10, 16)\n",
    "    s[s==np.nan] = 0\n",
    "    return s\n",
    "\n",
    "x = torch.rand(1,10,16)\n",
    "squash(x).shape"
   ]
  },
  {
   "cell_type": "markdown",
   "metadata": {},
   "source": [
    "动态路由算法相当于一个聚类过程，将底层的若干个向量以迭代的路由方法，选取若干具有代表性的胶囊。\n",
    "- 输入 (B, 10, 32x6x6, 16)\n",
    "- 输出 (B, 10, 16)\n",
    "\n",
    "要注意的细节\n",
    "- b的维度是多少？ b是有batchsize的，我最开是设置的是没有batchsize，效果不太好。"
   ]
  },
  {
   "cell_type": "code",
   "execution_count": 61,
   "metadata": {},
   "outputs": [
    {
     "data": {
      "text/plain": [
       "torch.Size([1, 10, 16])"
      ]
     },
     "execution_count": 61,
     "metadata": {},
     "output_type": "execute_result"
    }
   ],
   "source": [
    "def dynamic_routing(x, iterations=3):\n",
    "    \"\"\"\n",
    "    Args:\n",
    "        x: u_hat,  (B, 10, 32x6x6, 16, 1)\n",
    "        \n",
    "    Return:\n",
    "        v: next layer output (B, 10, 16)\n",
    "    \"\"\"\n",
    "    N = 32*6*6 # previous layer\n",
    "    N1 = 10 # next layer\n",
    "    B = x.shape[0]\n",
    "    \n",
    "    b = torch.zeros(B,N1,N,1, 1).to(x.device)\n",
    "    for _ in range(iterations):        \n",
    "        # probability of each vector to be distributed is 1\n",
    "        # (B,10,32*6*6,1, 1)\n",
    "        c = F.softmax(b, dim=1)  \n",
    " \n",
    "        # (B,10,16)\n",
    "        s = torch.sum(x.matmul(c), dim=2).squeeze(-1)\n",
    "     \n",
    "        # (B,10,16)\n",
    "        v = squash(s)\n",
    "\n",
    "        # (B,10,32*6*6,1,1)\n",
    "        b = b + v[:,:,None,None,:].matmul(x)\n",
    "\n",
    "        \n",
    "    return v\n",
    "\n",
    "x = torch.rand(1,10,32*6*6,16, 1)\n",
    "dynamic_routing(x).shape"
   ]
  },
  {
   "cell_type": "markdown",
   "metadata": {},
   "source": [
    "## 1.5 初级胶囊层\n",
    "在实现初级胶囊层时，我们要了解一些细节，比如\n",
    "- 怎样表示一个胶囊？ 每个像素点上一个1x8的向量\n",
    "- 怎样计算出初级胶囊？使用32组卷积核，每组输出8个通道\n",
    "- 怎样在程序里存这些胶囊？我的做法是将所有的胶囊放在一列，换句话说，放在一个`(B, 32*6*6, 8)`的矩阵里面"
   ]
  },
  {
   "cell_type": "code",
   "execution_count": 62,
   "metadata": {},
   "outputs": [],
   "source": [
    "class PrimaryCapsuleLayer(nn.Module):\n",
    "    def __init__(self):\n",
    "        super().__init__()\n",
    "        self.primary_capsule_layer = \\\n",
    "            nn.ModuleList([nn.Conv2d(256,8,9, stride=2) for _ in range(32)])\n",
    "        \n",
    "    def forward(self, x):\n",
    "        \"\"\" Produce primary capsules\n",
    "        \n",
    "        Args:\n",
    "            x: features with (B, 256, 20, 20)\n",
    "            \n",
    "        Return:\n",
    "            vectors (B, 32*6*6, 8)\n",
    "        \"\"\"\n",
    "        capsules = [conv(x) for conv in self.primary_capsule_layer]  # [[B, 8, 6, 6] * 32] \n",
    "        capsules_reshaped = [c.reshape(-1,8,6*6) for c in capsules]  # [[B, 8, 36] * 32] \n",
    "        s = torch.cat(capsules_reshaped, dim=-1).permute(0, 2, 1)  # (B, 32*6*6, 8)\n",
    "        return squash(s)\n",
    "\n",
    "    \n",
    "\n",
    "# 测试单元\n",
    "def test_for_primary_capsule_layer():\n",
    "    input = torch.rand(1,256,20,20)\n",
    "    layer = PrimaryCapsuleLayer()\n",
    "    assert layer(input).shape == (1,32*6*6, 8)\n",
    "test_for_primary_capsule_layer()"
   ]
  },
  {
   "cell_type": "markdown",
   "metadata": {},
   "source": [
    "## 1.6 卷积胶囊层\n",
    "在实现卷积胶囊层时，我们要了解一些细节，比如\n",
    "- 高维矩阵相乘怎么进行计算？\n",
    "  比如对(B, 32x6x6, 8)大小的向量矩阵，通过权重矩阵，得到输出(B,10, 32x6x6,16)的矩阵，通过下面高维矩阵相乘方式推出$o=Wx$\n",
    "  - W `(1, 10, 32x6x6, 16, 8)`\n",
    "  - x `(B, 1,  32x6x6, 8,  1) `  \n",
    "  - o `(B, 10, 32x6x6, 16, 1)`\n",
    "  \n",
    "  上面两个矩阵相乘看起来有点复杂，怎么思考呢？多维矩阵的相乘可以看作最后两个维度作矩阵乘法，两个维度我们肯定很清楚，维度(a,b)和(b,c)两个矩阵相乘就是(a,c)。其他维度要么进行广播机制，要么不变。所以，从上面的维度，可以知道，前两个维度实行广播机制，第三个不变，最后两个维度的乘法也就是(16,8)和(8,1)的向量相乘，完成了变换。因此，就有了下面的例子\n",
    "  ```python\n",
    "    B = 1\n",
    "    x = torch.rand(B,32*6*6,8)\n",
    "    x = x[:,None,...,None]\n",
    "\n",
    "    w = torch.rand(1,10,32*6*6,16,8)\n",
    "    w.matmul(x).shape\n",
    "    # torch.Size([1, 10, 1152, 16, 1])\n",
    "    ```"
   ]
  },
  {
   "cell_type": "code",
   "execution_count": 63,
   "metadata": {},
   "outputs": [],
   "source": [
    "class CapsLayer(nn.Module):\n",
    "    def __init__(self,nclasses=10, out_channels_dim=16):\n",
    "        super().__init__()\n",
    "        self.W = nn.Parameter(1e-3 * torch.randn(1,nclasses,32*6*6,out_channels_dim,8))\n",
    "        \n",
    "    def forward(self, x):\n",
    "        \"\"\"Predict and routing\n",
    "        \n",
    "        Args:\n",
    "            x: Input vectors, (B, 32*6*6, 8)\n",
    "            \n",
    "        Return:\n",
    "            class capsules, (B, 10, 16)\n",
    "        \"\"\"\n",
    "        x = x[:,None,...,None]\n",
    "        u_hat = self.W.matmul(x)  # (B, 10, 32x6x6, 16, 1)\n",
    "        assert u_hat.shape[1:] == (10, 32*6*6, 16, 1)\n",
    "        class_capsules = dynamic_routing(u_hat)\n",
    "        return class_capsules\n",
    "    \n",
    "    \n",
    "def test_for_caps_layer():\n",
    "    input = torch.rand(1,32*6*6,8)\n",
    "    layer = CapsLayer()\n",
    "    assert layer(input).shape == (1,10,16)\n",
    "test_for_caps_layer()"
   ]
  },
  {
   "cell_type": "markdown",
   "metadata": {},
   "source": [
    "## 1.7 胶囊网络\n",
    "实现了前面必须的几层，相信胶囊网络也是非常好搭了。我们定义的胶囊网络最后输出为10个分类向量"
   ]
  },
  {
   "cell_type": "code",
   "execution_count": 64,
   "metadata": {},
   "outputs": [],
   "source": [
    "class CapsNet(nn.Module):\n",
    "    def __init__(self):\n",
    "        super().__init__()\n",
    "        self.conv_layer = nn.Conv2d(1,256,9)\n",
    "        self.primary_layer = PrimaryCapsuleLayer()\n",
    "        self.caps_layer = CapsLayer(nclasses=10, out_channels_dim=16)\n",
    "        \n",
    "    def forward(self, x):\n",
    "        \"\"\"\n",
    "        Args:\n",
    "            x : Input img, (B, 1, 28, 28)\n",
    "        \n",
    "        Return:\n",
    "            the class capsules, each capsule is a 16 dimension vector\n",
    "        \"\"\"\n",
    "        x = self.conv_layer(x)  # (B, 256, 20, 20)\n",
    "        x = self.primary_layer(x)  # (B, 32*6*6, 8)\n",
    "        x = self.caps_layer(x)  # (B, 10, 16)\n",
    "        return x\n",
    "    \n",
    "def test_for_caps_net():\n",
    "    input = torch.rand(1,1,28,28)\n",
    "    model = CapsNet()\n",
    "    assert model(input).shape == (1,10,16)\n",
    "    \n",
    "test_for_caps_net()"
   ]
  },
  {
   "cell_type": "markdown",
   "metadata": {},
   "source": [
    "# 实验1 训练一个分类的胶囊网络\n",
    "\n",
    "## 实现损失\n",
    "现在我们来到第一个实验，训练一个分类网络。首先了解原文提到的损失\n",
    "\n",
    "$$\n",
    "L_{k}=T_{k} \\max \\left(0, m^{+}-\\left\\|\\mathbf{v}_{k}\\right\\|\\right)^{2}+\\lambda\\left(1-T_{k}\\right) \\max \\left(0,\\left\\|\\mathbf{v}_{k}\\right\\|-m^{-}\\right)^{2}\n",
    "$$\n",
    "\n",
    "这其中$\\left\\|\\mathbf{v}_{k}\\right\\|$就是胶囊网络最后输出来的分类胶囊，k表示第k个。这个式子可以理解为一个分段函数\n",
    "\n",
    "\\begin{equation}\n",
    "L_{k}=\\left\\{\n",
    "\\begin{aligned}\n",
    "\\max \\left(0, m^{+}-\\left\\|\\mathbf{v}_{k}\\right\\|\\right)^{2}& & {第k个胶囊正确分类} \\\\\n",
    "\\lambda \\max \\left(0,\\left\\|\\mathbf{v}_{k}\\right\\|-m^{-}\\right)^{2} & & {第k个胶囊错误分类}\n",
    "\\end{aligned}\n",
    "\\right.\n",
    "\\end{equation}\n",
    "\n",
    "其中$m^{+}=0.9,m^{-}=0.1, \\lambda=0.5$，也就是说，分类胶囊是概率为0.9以上且分类正确的，以及概率为0.1且错误的，我们都是为是”好“的，因此训练时我们采样梯度下降到方式往这个方向靠拢。   \n",
    "因此，我们首先需要自定义一个损失。在pytorch里面，损失定义很简单\n",
    "\n",
    "一些细节\n",
    "- 使用onehot向量T和预测胶囊模长相乘来选取正确预测的值，(1-T)和预测胶囊模长相乘来选取错误预测的值"
   ]
  },
  {
   "cell_type": "code",
   "execution_count": 65,
   "metadata": {},
   "outputs": [],
   "source": [
    "#TODO: test it!\n",
    "def margin_loss(y, y_hat):\n",
    "    \"\"\"\n",
    "    Args:\n",
    "        y: ground truth labels (B)\n",
    "        y_hat: class capsules with (B, 10, 16)\n",
    "        \n",
    "    Return\n",
    "        the margin loss\n",
    "    \"\"\"\n",
    "    _lambda = 0.5\n",
    "    m_plus = 0.9\n",
    "    m_minus = 0.1\n",
    "    nclasses = 10\n",
    "    \n",
    "    y_norm = y_hat.norm(dim=-1) # (B,10)\n",
    "    T = F.one_hot(y, nclasses) # use it as index for right class (B,10)\n",
    "    T = T.float()\n",
    "\n",
    "    right = torch.max(torch.zeros_like(y_norm), m_plus-y_norm*T)\n",
    "    right = right**2\n",
    "    wrong = torch.max(torch.zeros_like(y_norm), y_norm*(1-T)-m_minus)\n",
    "    wrong = _lambda*wrong**2\n",
    "    return torch.sum(right+wrong)\n",
    "\n",
    "def test_margin_loss():\n",
    "    y = torch.randint(0,10,(20,))\n",
    "    y_hat = torch.rand(20,10,16)\n",
    "    print(margin_loss(y,y_hat).item())"
   ]
  },
  {
   "cell_type": "code",
   "execution_count": 259,
   "metadata": {},
   "outputs": [],
   "source": [
    "import time\n",
    "\n",
    "def train(net, epochs, dataloader,reconstruction=False, report=30):\n",
    "    \"\"\" \n",
    "    global variable:\n",
    "        - train_loader\n",
    "    \"\"\"\n",
    "    net.train()\n",
    "\n",
    "    optimizer = torch.optim.Adam(net.parameters())\n",
    "\n",
    "    train_history = []\n",
    "    for epoch in range(epochs):\n",
    "        t0 = time.time()\n",
    "        \n",
    "        epoch_loss = torch.tensor(0.)\n",
    "        for batch, (X_batch, y_batch) in enumerate(dataloader):\n",
    "            X_batch, y_batch = X_batch.to(device), y_batch.to(device)\n",
    "            \n",
    "            if reconstruction:\n",
    "                y_hat_param = net(X_batch, y_batch)\n",
    "                loss = total_loss(X_batch, y_batch, y_hat_param)\n",
    "            else:\n",
    "                y_hat = net(X_batch)\n",
    "                loss = margin_loss(y_batch, y_hat)\n",
    "            epoch_loss += loss\n",
    "\n",
    "            optimizer.zero_grad()\n",
    "            loss.backward()\n",
    "            optimizer.step()\n",
    "\n",
    "        train_history.append(epoch_loss.item())\n",
    "        print(f\"Epoch {epoch+1} loss is {epoch_loss}\")\n",
    "    return train_history"
   ]
  },
  {
   "cell_type": "code",
   "execution_count": 66,
   "metadata": {},
   "outputs": [
    {
     "name": "stdout",
     "output_type": "stream",
     "text": [
      "Epoch 1\n",
      "\tBatch 459\n",
      "\t\tTraining Loss: 217069.953\n",
      "\t\tTime: 168.944s\n",
      "\tBatch 919\n",
      "\t\tTraining Loss: 215645.812\n",
      "\t\tTime: 168.651s\n",
      "Epoch 2\n",
      "\tBatch 459\n",
      "\t\tTraining Loss: 215400.625\n",
      "\t\tTime: 168.716s\n",
      "\tBatch 919\n",
      "\t\tTraining Loss: 215362.047\n",
      "\t\tTime: 169.112s\n",
      "Epoch 3\n",
      "\tBatch 459\n",
      "\t\tTraining Loss: 215193.094\n",
      "\t\tTime: 167.462s\n",
      "\tBatch 919\n",
      "\t\tTraining Loss: 215290.953\n",
      "\t\tTime: 169.099s\n",
      "Epoch 4\n",
      "\tBatch 459\n",
      "\t\tTraining Loss: 215119.266\n",
      "\t\tTime: 168.276s\n",
      "\tBatch 919\n",
      "\t\tTraining Loss: 215151.844\n",
      "\t\tTime: 171.731s\n",
      "Epoch 5\n",
      "\tBatch 459\n",
      "\t\tTraining Loss: 215083.062\n",
      "\t\tTime: 168.992s\n",
      "\tBatch 919\n",
      "\t\tTraining Loss: 215115.438\n",
      "\t\tTime: 173.077s\n"
     ]
    }
   ],
   "source": [
    "# Start training\n",
    "torch.autograd.set_detect_anomaly(True)\n",
    "\n",
    "encoder = CapsNet().to(device)\n",
    "train(encoder, 5, train_loader, margin_loss, report=460)"
   ]
  },
  {
   "cell_type": "code",
   "execution_count": 68,
   "metadata": {},
   "outputs": [],
   "source": [
    "# Test the model\n",
    "def evaluate(model, test_loader):\n",
    "    model.eval()  # eval mode (batchnorm uses moving mean/variance instead of mini-batch mean/variance)\n",
    "\n",
    "    with torch.no_grad():\n",
    "        correct = 0\n",
    "        total = 0\n",
    "        for images, labels in test_loader:\n",
    "            images = images.to(device)\n",
    "            labels = labels.to(device)\n",
    "            outputs = model(images)\n",
    "            outputs = outputs.norm(dim=-1)\n",
    "            _, predicted = torch.max(outputs.data, 1)\n",
    "            total += labels.size(0)\n",
    "            correct += (predicted == labels).sum().item()\n",
    "    return correct / total\n",
    "\n",
    "acc = evaluate(encoder, test_loader)"
   ]
  },
  {
   "cell_type": "code",
   "execution_count": 73,
   "metadata": {},
   "outputs": [
    {
     "name": "stdout",
     "output_type": "stream",
     "text": [
      "Test Accuracy of the model on the 10000 test images: 98.62%\n"
     ]
    }
   ],
   "source": [
    "print('Test Accuracy of the model on the 10000 test images: {:.2f}%'.format(100 * acc))"
   ]
  },
  {
   "cell_type": "markdown",
   "metadata": {},
   "source": [
    "有点惊喜，训练了五个epoch，效果还不错。"
   ]
  },
  {
   "cell_type": "markdown",
   "metadata": {},
   "source": [
    "# 实验2 构建重建网络\n",
    "## 解码器实现\n",
    "除了做简单的分类外，原作者对预测正确的向量进行解码，解码到图片空间。这个过程现有的实现都是用MLP来实现的。也就是说，对一个预测正确的向量(1x16)，使用`(16 --> 28*28)`的解码网络即可，只是中间网络层数可能需要多一些。原文用了三个全连接层，[1][2]给隐层size设定都是512，1024。\n",
    "\n",
    "这里编程的细节有\n",
    "- 运用zip来迭代两个序列\n",
    "- 根据list来选元素: `class_capsules[torch.arange(B), y]`，参考https://discuss.pytorch.org/t/selecting-element-on-dimension-from-list-of-indexes/36319/3\n",
    "- 在训练的时候，因为前面encoder已经训练过了，我们可以冻结掉前面编码网络参数，只训练解码网络，可以进行下列操作\n",
    "\n",
    "\n",
    "```python\n",
    "\n",
    "def set_parameter_requires_grad(model, feature_extracting):\n",
    "    if feature_extracting:\n",
    "        for param in model.parameters():\n",
    "            param.requires_grad = False\n",
    "            \n",
    "set_parameter_requires_grad(encoder, True)\n",
    "# 对优化器\n",
    "optimizer = optim.Adam(\n",
    "        filter(lambda p: p.requires_grad, net.parameters()),\n",
    "        lr=0.1\n",
    "    )\n",
    "```"
   ]
  },
  {
   "cell_type": "code",
   "execution_count": 253,
   "metadata": {},
   "outputs": [],
   "source": [
    "class MLPDecoder(nn.Module):\n",
    "    \"\"\"Decode the input predicted vectors tor origin images\n",
    "    \n",
    "    Usage:\n",
    "        decoder = MLPDecoder([512, 1024], 16, (28,28))\n",
    "        reconstructed_x = decoder(selected_capsules)\n",
    "    \"\"\"\n",
    "    def __init__(self, hidden, in_channels, out_shape):\n",
    "        super().__init__()\n",
    "        self.out_shape = out_shape\n",
    "        h,w = out_shape\n",
    "        out_channels = w*h\n",
    "        self.mlp = nn.Sequential(*[\n",
    "            nn.Linear(_in, _out)\n",
    "            for _in,_out in zip([in_channels]+hidden, hidden+[out_channels])\n",
    "        ])\n",
    "        \n",
    "        \n",
    "    def forward(self, x):\n",
    "        \"\"\"\n",
    "        Args:\n",
    "            x: (B,16)\n",
    "            \n",
    "        Return:\n",
    "            reconstructed images with (B,1,28,28)\n",
    "        \"\"\"\n",
    "        B = x.shape[0]\n",
    "        x = self.mlp(x)\n",
    "        x = x.reshape(B, 1, *self.out_shape)\n",
    "        return x\n",
    "    \n",
    "def test_decoder():\n",
    "    decoder = MLPDecoder([512, 1024], 16, (28,28))\n",
    "    x = torch.rand(5,16)\n",
    "    assert decoder(x).shape == (5,1,28,28)\n",
    "test_decoder()"
   ]
  },
  {
   "cell_type": "markdown",
   "metadata": {},
   "source": [
    "对于自编码器的设计，我们将编解码设得灵活一点，通过构造函数传入"
   ]
  },
  {
   "cell_type": "code",
   "execution_count": 254,
   "metadata": {},
   "outputs": [],
   "source": [
    "class CapsAE(nn.Module):\n",
    "    def __init__(self, encoder, decoder):\n",
    "        super().__init__()\n",
    "        self.encoder = encoder\n",
    "        self.decoder = decoder\n",
    "        \n",
    "    def forward(self, x, y):\n",
    "        \"\"\"\n",
    "        Args:\n",
    "            x: (B, C, H, W) (B,1,28,28)\n",
    "            y: (B)\n",
    "            \n",
    "        Return:\n",
    "            reconstructed images with (B,1,28,28)\n",
    "        \"\"\"\n",
    "        B = x.shape[0]\n",
    "        \n",
    "        class_capsules = self.encoder(x)  # (B, 10, 16)\n",
    "        selected_capsules = class_capsules[torch.arange(B), y] #  (B, 16)\n",
    "        assert selected_capsules.shape ==  (B, 16)\n",
    "        \n",
    "        reconstructed_x = self.decoder(selected_capsules)\n",
    "        \n",
    "        \n",
    "        return class_capsules,reconstructed_x"
   ]
  },
  {
   "cell_type": "markdown",
   "metadata": {},
   "source": [
    "- 加上重建损失的总损失\n",
    "\n",
    "$$\n",
    "L_{total} = L_{margin} + 0.0005 \\times L_{reconstruction}\n",
    "$$\n",
    "其中\n",
    "$$\n",
    " L_{reconstruction} = ||x - \\hat{x} ||^2\n",
    "$$\n"
   ]
  },
  {
   "cell_type": "code",
   "execution_count": 265,
   "metadata": {},
   "outputs": [],
   "source": [
    "def total_loss(x, y, y_hat_params, c=0.0005):\n",
    "    \"\"\" marigin loss + 0.00005reconstruction loss\n",
    "    \n",
    "    Args:\n",
    "        x: (B,C,H,W)\n",
    "        y: (B,)\n",
    "        y_hat_params: a tuple of (class_capsules, reconstructed_x)\n",
    "    \"\"\"\n",
    "    class_capsules, reconstructed_x = y_hat_params\n",
    "    \n",
    "    return margin_loss(y, class_capsules)+c*F.mse_loss(x,reconstructed_x)"
   ]
  },
  {
   "cell_type": "code",
   "execution_count": 266,
   "metadata": {},
   "outputs": [],
   "source": [
    "encoder = CapsNet()\n",
    "decoder = MLPDecoder([512, 1024], 16, (28,28))\n",
    "autoencoder = CapsAE(\n",
    "    encoder = encoder,\n",
    "    decoder = decoder\n",
    ").to(device)"
   ]
  },
  {
   "cell_type": "code",
   "execution_count": null,
   "metadata": {},
   "outputs": [],
   "source": [
    "train_loss = train(autoencoder, 5, train_loader, reconstruction=True, report=460)"
   ]
  },
  {
   "cell_type": "markdown",
   "metadata": {},
   "source": [
    "## 模型评估\n",
    "对自编码器，我们从两个方面来评估：\n",
    "- 编码器的分类能力\n",
    "- 解码器解码效果"
   ]
  },
  {
   "cell_type": "code",
   "execution_count": 261,
   "metadata": {},
   "outputs": [
    {
     "name": "stdout",
     "output_type": "stream",
     "text": [
      "Test Accuracy of the model on the 10000 test images of encoder in AE: 98.80%\n"
     ]
    }
   ],
   "source": [
    "acc = evaluate(encoder, test_loader)\n",
    "print('Test accuracy of the model on the 10000 test images of encoder in AE: {:.2f}%'.format(100 * acc))"
   ]
  },
  {
   "cell_type": "code",
   "execution_count": 262,
   "metadata": {},
   "outputs": [],
   "source": [
    "def evaluate_ae(model, test_loader, once=False):\n",
    "    \"\"\" get all reconstruction results\n",
    "    Args:\n",
    "        model: autoencoder\n",
    "        test_loader\n",
    "        \n",
    "    Return:\n",
    "        origin images and reconstructed images (N,1,28,28)\n",
    "    \"\"\"\n",
    "    model.eval()  # eval mode (batchnorm uses moving mean/variance instead of mini-batch mean/variance)\n",
    "\n",
    "    with torch.no_grad():\n",
    "        X_ = [] # reconstructed images\n",
    "        X = [] # origin images\n",
    "        for images, labels in test_loader:\n",
    "            images = images.to(device)\n",
    "            labels = labels.to(device)\n",
    "            _, x_ = model(images, labels)\n",
    "            X_.append(x_)\n",
    "            X.append(images)\n",
    "            \n",
    "            if once:\n",
    "                break\n",
    "            \n",
    "    return torch.cat(X, dim=0),torch.cat(X_, dim=0)"
   ]
  },
  {
   "cell_type": "code",
   "execution_count": 263,
   "metadata": {},
   "outputs": [],
   "source": [
    "X,X_ =  evaluate_ae(autoencoder, test_loader, once=True)\n",
    "X,X_ = X.cpu(),X_.cpu()"
   ]
  },
  {
   "cell_type": "code",
   "execution_count": 264,
   "metadata": {},
   "outputs": [
    {
     "data": {
      "image/png": "[encoded data removed]",
      "text/plain": [
       "<Figure size 936x360 with 20 Axes>"
      ]
     },
     "metadata": {
      "needs_background": "light"
     },
     "output_type": "display_data"
    }
   ],
   "source": [
    "fg, axs = plt.subplots(nrows=2, ncols=10, gridspec_kw={'hspace': 0, 'wspace': 0.1}, figsize=(13,5))\n",
    "fg.suptitle('Groundtruths - Reconstructions')\n",
    "\n",
    "for i in range(10):\n",
    "    axs[0, i].imshow(X[i].squeeze(), cmap='binary')\n",
    "    axs[1, i].imshow(X_[i].squeeze(), cmap='binary')\n",
    "    axs[0, i].axis('off')\n",
    "    axs[1, i].axis('off')\n",
    "plt.show()"
   ]
  },
  {
   "cell_type": "markdown",
   "metadata": {},
   "source": [
    "## 总结\n",
    "- 重建效果 不是特别好，和[1]相比有些糊，但是基本轮廓是重建出来了\n",
    "\n",
    "# 实验3 分类胶囊的每一位代表什么？"
   ]
  },
  {
   "cell_type": "code",
   "execution_count": null,
   "metadata": {},
   "outputs": [],
   "source": [
    "def evaluate_class_capsule(model, x, y, delta=1, dim=0, l=5):\n",
    "    \"\"\" Simply adding class capsules digit from -7 to 7, to \n",
    "    see what happens about reconstruction.\n",
    "    \n",
    "    Args:\n",
    "        model: autoencoder\n",
    "        x: input image (B,1,28,28)\n",
    "        y\n",
    "        dim: which dim you want to research\n",
    "\n",
    "        \n",
    "    Return \n",
    "        [origin image,reconstructed_xs] [(B,1,28,28), ... ,(B,1,28,28)]\n",
    "    \"\"\"\n",
    "    model.eval()\n",
    "    B = x.shape[0]\n",
    "    encoder, decoder = model.encoder, model.decoder\n",
    "    \n",
    "    with torch.no_grad():        \n",
    "        # Auto encoder, but adding class capsules digit from -7 to 7 \n",
    "        class_capsules = encoder(x)  # (B, 10, 16)\n",
    "        selected_capsules = class_capsules[torch.arange(B), y] #  (B, 16)\n",
    "        assert selected_capsules.shape ==  (B, 16)\n",
    "        \n",
    "        index = F.one_hot(torch.ones(1, dtype=torch.long)*dim, num_classes=16)\n",
    "        index = index.float().to(device)\n",
    "        \n",
    "        shifted_capsules = [selected_capsules+i*delta*index for i in range(-l,l+1)]\n",
    "        reconstructed_xs = [decoder(i) for i in shifted_capsules]\n",
    "        \n",
    "    reconstructed_xs.insert(0, x)\n",
    "    return reconstructed_xs"
   ]
  },
  {
   "cell_type": "code",
   "execution_count": null,
   "metadata": {},
   "outputs": [],
   "source": [
    "def research_for_class_capsule(N=2, dim=0, delta=0.5):\n",
    "    \"\"\" Simply test N of first batch of test loader for dim \n",
    "    \n",
    "    \"\"\"\n",
    "    for X,y in test_loader:\n",
    "        X,y = X[0:N].to(device),y[0:N].to(device)\n",
    "        result = evaluate_class_capsule(autoencoder, X, y, delta=delta, dim=dim)\n",
    "        break\n",
    "        \n",
    "    fg, axs = plt.subplots(nrows=N, ncols=len(result), gridspec_kw={'hspace': 0, 'wspace': 0.1}, figsize=(13,5))\n",
    "    fg.suptitle(f'research for capsule dim={dim}, delta={delta}')\n",
    "\n",
    "    for i in range(N):\n",
    "        for j in range(len(result)):\n",
    "            axs[i, j].imshow(result[j][i].squeeze().cpu(), cmap='binary')\n",
    "            axs[i, j].axis('off')\n",
    "    plt.show()"
   ]
  },
  {
   "cell_type": "code",
   "execution_count": null,
   "metadata": {},
   "outputs": [],
   "source": [
    "def research_for_class_capsule_for(i=0,  delta=0.5):\n",
    "    \"\"\" Test class capsule dim usage for i th test image\n",
    "    \n",
    "    \"\"\"\n",
    "    result = []\n",
    "    for X,y in test_loader:\n",
    "        X,y = X[i][None,...].to(device),y[i][None,...].to(device)\n",
    "        for dim in range(16):\n",
    "            result.append(\n",
    "                evaluate_class_capsule(autoencoder, X, y, delta=delta, dim=dim)\n",
    "            )\n",
    "        break\n",
    "        \n",
    "    fg, axs = plt.subplots(nrows=16, ncols=len(result[0]), gridspec_kw={'hspace': 0, 'wspace': 0.1}, figsize=(13,13))\n",
    "    fg.suptitle(f'research for each dim in capsule, delta={delta}')\n",
    "\n",
    "    for i in range(16):\n",
    "        for j in range(len(result[0])):\n",
    "            axs[i, j].imshow(result[i][j].squeeze().cpu(), cmap='binary')\n",
    "            axs[i, j].axis('off')\n",
    "    plt.show()"
   ]
  },
  {
   "cell_type": "markdown",
   "metadata": {},
   "source": [
    "## 一大波结果"
   ]
  },
  {
   "cell_type": "code",
   "execution_count": null,
   "metadata": {},
   "outputs": [],
   "source": [
    "for i in range(10):\n",
    "    research_for_class_capsule_for(i, 0.05)"
   ]
  },
  {
   "cell_type": "code",
   "execution_count": null,
   "metadata": {},
   "outputs": [],
   "source": [
    "for i in range(10):\n",
    "    research_for_class_capsule_for(i, 0.1)"
   ]
  },
  {
   "cell_type": "markdown",
   "metadata": {},
   "source": [
    "# BUG 记录\n",
    "- `RuntimeError: Input type (torch.cuda.FloatTensor) and weight type (torch.FloatTensor) should be the same`\n",
    "原因：（1）初级胶囊层的32个卷积单元要放在一个nn.ModuleList里（2）动态路由中的b和c需要与输入在同一个cpu或gpu中。\n",
    "\n",
    "- `one of the variables needed for gradient computation has been modified by an inplace operation: [torch.cuda.FloatTensor [1, 10, 1152, 1, 1]], which is output 0 of AddBackward0, is at version 6; expected version 5 instead. Hint: enable anomaly detection to find the operation that failed to compute its gradient, with torch.autograd.set_detect_anomaly(True)` 这个报错说明的问题是一些需要进行梯度计算的参数在计算后发生了更改，比如类似`b[0]=1`这样的inplace操作。发生了这个错误，首先使用`torch.autograd.set_detect_anomaly(True)`看看能不能定位到错误位置。不过我记得修改了什么地方，查明BUG原因：在我实现的动态路由里，不能用`+=`来更新b，具体如下\n",
    "\n",
    "```python\n",
    "# 报错\n",
    "b += torch.mean(torch.matmul(v[:,:,None,None,:], x), dim=0,keepdim=True)\n",
    "\n",
    "# 正常\n",
    "b = b + torch.mean(torch.matmul(v[:,:,None,None,:], x), dim=0,keepdim=True)\n",
    "\n",
    "# 正常\n",
    "b = b + v[:,:,None,None,:].matmul(x).mean(dim=0,keepdim=True)\n",
    "\n",
    "```\n",
    "可能的一点解释就是这样的方法是这种操作让pytorch以为是原位操作，才会报的错\n",
    "\n",
    "- `RuntimeError: Function 'PowBackward0' returned nan values in its 0th output.`\n",
    "\n",
    "\n",
    "# 思考\n",
    "- 训练速度，我实现版本的速度比较慢，比[1]几乎慢6倍，这个问题需要检查下模型，还有较大改进空间\n",
    "\n",
    "# 参考资料\n",
    "[1]  https://github.com/gchochla/capsules-utils    \n",
    "[2] https://github.com/gram-ai/capsule-networks"
   ]
  }
 ],
 "metadata": {
  "kernelspec": {
   "display_name": "Python 3",
   "language": "python",
   "name": "python3"
  },
  "language_info": {
   "codemirror_mode": {
    "name": "ipython",
    "version": 3
   },
   "file_extension": ".py",
   "mimetype": "text/x-python",
   "name": "python",
   "nbconvert_exporter": "python",
   "pygments_lexer": "ipython3",
   "version": "3.7.7"
  }
 },
 "nbformat": 4,
 "nbformat_minor": 4
}
